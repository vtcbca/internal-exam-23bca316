{
 "cells": [
  {
   "cell_type": "markdown",
   "id": "8b0e7fbb-d593-4462-b6ca-124e1b67a0d1",
   "metadata": {},
   "source": [
    " Create text file on python by taking input from user. Read Python.txt file and Print it in Reverse. \n"
   ]
  },
  {
   "cell_type": "code",
   "execution_count": 1,
   "id": "0d2b4764-3453-4245-9d94-fb42c8b5e00c",
   "metadata": {},
   "outputs": [],
   "source": [
    "import csv"
   ]
  },
  {
   "cell_type": "code",
   "execution_count": 4,
   "id": "90e109e0-5b4b-4155-a57d-f802850b3aa7",
   "metadata": {},
   "outputs": [
    {
     "ename": "IndentationError",
     "evalue": "unexpected indent (1249346397.py, line 3)",
     "output_type": "error",
     "traceback": [
      "\u001b[1;36m  Cell \u001b[1;32mIn[4], line 3\u001b[1;36m\u001b[0m\n\u001b[1;33m    while true:\u001b[0m\n\u001b[1;37m    ^\u001b[0m\n\u001b[1;31mIndentationError\u001b[0m\u001b[1;31m:\u001b[0m unexpected indent\n"
     ]
    }
   ],
   "source": [
    " f=open(\"C:\\\\html2\\\\23bca316\\\\sqlite3\\\\python.txt\",\"w\")\n",
    "line=[]\n",
    "    while true:\n",
    "        l=input()\n",
    "        if l:\n",
    "          l.write(\"append text\\n\")\n",
    "        else:\n",
    "            text=\"\\n\".join(line)\n",
    "\n",
    "\n",
    "python is programming language\n",
    "write(line)\n",
    "        \n",
    "\n",
    "    \n",
    "    "
   ]
  },
  {
   "cell_type": "code",
   "execution_count": null,
   "id": "0af1e515-0641-4f49-8dc5-b2a553a94747",
   "metadata": {},
   "outputs": [],
   "source": []
  }
 ],
 "metadata": {
  "kernelspec": {
   "display_name": "Python 3 (ipykernel)",
   "language": "python",
   "name": "python3"
  },
  "language_info": {
   "codemirror_mode": {
    "name": "ipython",
    "version": 3
   },
   "file_extension": ".py",
   "mimetype": "text/x-python",
   "name": "python",
   "nbconvert_exporter": "python",
   "pygments_lexer": "ipython3",
   "version": "3.12.4"
  }
 },
 "nbformat": 4,
 "nbformat_minor": 5
}
